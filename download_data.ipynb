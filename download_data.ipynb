{
 "cells": [
  {
   "cell_type": "code",
   "execution_count": 1,
   "metadata": {},
   "outputs": [],
   "source": [
    "import pandas as pd\n",
    "import numpy as np "
   ]
  },
  {
   "cell_type": "code",
   "execution_count": 5,
   "metadata": {},
   "outputs": [
    {
     "name": "stdout",
     "output_type": "stream",
     "text": [
      "Collecting openpyxl\n",
      "  Downloading openpyxl-3.1.2-py2.py3-none-any.whl.metadata (2.5 kB)\n",
      "Collecting et-xmlfile (from openpyxl)\n",
      "  Downloading et_xmlfile-1.1.0-py3-none-any.whl.metadata (1.8 kB)\n",
      "Downloading openpyxl-3.1.2-py2.py3-none-any.whl (249 kB)\n",
      "   ---------------------------------------- 0.0/250.0 kB ? eta -:--:--\n",
      "   ---- ---------------------------------- 30.7/250.0 kB 660.6 kB/s eta 0:00:01\n",
      "   ------------------- -------------------- 122.9/250.0 kB 1.8 MB/s eta 0:00:01\n",
      "   ---------------------------------------- 250.0/250.0 kB 3.1 MB/s eta 0:00:00\n",
      "Downloading et_xmlfile-1.1.0-py3-none-any.whl (4.7 kB)\n",
      "Installing collected packages: et-xmlfile, openpyxl\n",
      "Successfully installed et-xmlfile-1.1.0 openpyxl-3.1.2\n"
     ]
    }
   ],
   "source": [
    "!pip install openpyxl"
   ]
  },
  {
   "cell_type": "code",
   "execution_count": 2,
   "metadata": {},
   "outputs": [],
   "source": [
    "df = pd.read_excel(r'C:\\Users\\User\\Desktop\\NIR\\База данных МРТ гипофиза (1).xlsx')"
   ]
  },
  {
   "cell_type": "code",
   "execution_count": 3,
   "metadata": {},
   "outputs": [
    {
     "data": {
      "text/plain": [
       "Файл с разметкой Ax T1+C\n",
       "False    72\n",
       "True     34\n",
       "Name: count, dtype: int64"
      ]
     },
     "execution_count": 3,
     "metadata": {},
     "output_type": "execute_result"
    }
   ],
   "source": [
    "df['Файл с разметкой Ax T1+C'].isna().value_counts()"
   ]
  },
  {
   "cell_type": "markdown",
   "metadata": {},
   "source": [
    "# Скрипт для загрузки с диска"
   ]
  },
  {
   "cell_type": "code",
   "execution_count": 4,
   "metadata": {},
   "outputs": [],
   "source": [
    "import os\n",
    "import pandas as pd\n",
    "import requests\n",
    "import zipfile\n",
    "import shutil\n",
    "from urllib.parse import urlencode\n",
    "#Assuming your dataframe is df\n",
    "\n",
    "\n",
    "# Создание папки если она не существует\n",
    "data_dir = 'data_29_05_24_cls108_seg72'\n",
    "# os.makedirs(data_dir, exist_ok=True)\n",
    "\n",
    "# Обход DataFrame\n",
    "for index, row in df.iterrows():\n",
    "    patient_id = row['ID пациента'] \n",
    "    patient_dir = f'{data_dir}/ID_{patient_id}' # путь к директории пациента\n",
    "\n",
    "    # Создание папки для пациента, если она не существует\n",
    "    os.makedirs(patient_dir, exist_ok=True)\n",
    "\n",
    "\n",
    "    base_url = 'https://cloud-api.yandex.net/v1/disk/public/resources/download?'\n",
    "    public_key = row['Местоположение файлов']  # Сюда вписываете вашу ссылку\n",
    "\n",
    "    # Получаем загрузочную ссылку\n",
    "    final_url = base_url + urlencode(dict(public_key=public_key))\n",
    "    # Скачивание и разархивирование файла Если это прямые ссылки на zip файлы\n",
    "    # response = requests.get(final_url, stream=True)\n",
    "    response = requests.get(final_url)\n",
    "    download_url = response.json()['href']\n",
    "    zip_file_path = os.path.join(patient_dir, 'temp.zip') # Путь к временному zip файлу\n",
    "    download_response = requests.get(download_url)\n",
    "\n",
    "    # Сохранение zip файла\n",
    "    with open(zip_file_path, 'wb') as fd:\n",
    "        fd.write(download_response.content)\n",
    "\n",
    "    # Разархивация файла\n",
    "    with zipfile.ZipFile(zip_file_path, 'r') as zip_ref:\n",
    "        zip_ref.extractall(patient_dir)\n",
    "\n",
    "    # Удаление временного zip файла\n",
    "    os.remove(zip_file_path)\n",
    "    \n",
    "    # # Создание файла с метками класса\n",
    "    with open(os.path.join(patient_dir, 'labels.txt'), 'w', encoding='utf-8') as f:\n",
    "        f.write(f'Категория Knosp слева (S): {row[\"Категория Knosp слева (S)\"]}\\n')\n",
    "        f.write(f'Категория Knosp справа (D): {row[\"Категория Knosp справа (D)\"]}\\n')"
   ]
  },
  {
   "cell_type": "code",
   "execution_count": null,
   "metadata": {},
   "outputs": [],
   "source": [
    "lables = {\n",
    "    '0':0,\n",
    "    '1':1,\n",
    "    '2':2,\n",
    "    '3a':3,\n",
    "    '3b':4,\n",
    "    '4':5\n",
    "}"
   ]
  },
  {
   "cell_type": "code",
   "execution_count": null,
   "metadata": {},
   "outputs": [],
   "source": []
  }
 ],
 "metadata": {
  "kernelspec": {
   "display_name": "MRI_NiR",
   "language": "python",
   "name": "python3"
  },
  "language_info": {
   "codemirror_mode": {
    "name": "ipython",
    "version": 3
   },
   "file_extension": ".py",
   "mimetype": "text/x-python",
   "name": "python",
   "nbconvert_exporter": "python",
   "pygments_lexer": "ipython3",
   "version": "3.11.8"
  }
 },
 "nbformat": 4,
 "nbformat_minor": 2
}
