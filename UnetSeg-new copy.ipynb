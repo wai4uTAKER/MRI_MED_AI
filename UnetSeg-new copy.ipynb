{
  "cells": [
    {
      "cell_type": "code",
      "execution_count": null,
      "metadata": {
        "id": "ShBpgYkTf8L7"
      },
      "outputs": [],
      "source": [
        "!wget https://storage.googleapis.com/example-dataset-bucket/example-dataset.zip"
      ]
    },
    {
      "cell_type": "code",
      "execution_count": null,
      "metadata": {
        "id": "g8BJa5tQgKR5"
      },
      "outputs": [],
      "source": [
        "import numpy as np\n",
        "import pandas as pd\n",
        "\n",
        "import random\n",
        "from glob import glob\n",
        "import os, shutil\n",
        "from tqdm import tqdm\n",
        "tqdm.pandas()\n",
        "import time\n",
        "import copy\n",
        "import joblib\n",
        "from collections import defaultdict\n",
        "import gc\n",
        "from IPython import display as ipd\n",
        "\n",
        "# visualization\n",
        "from PIL import Image\n",
        "import cv2\n",
        "import matplotlib.pyplot as plt\n",
        "from matplotlib.patches import Rectangle\n",
        "\n",
        "# Sklearn\n",
        "from sklearn.model_selection import StratifiedKFold, KFold, StratifiedGroupKFold\n",
        "\n",
        "# PyTorch \n",
        "import torch\n",
        "import torch.nn as nn\n",
        "import torch.optim as optim\n",
        "from torch.optim import lr_scheduler\n",
        "from torch.utils.data import Dataset, DataLoader\n",
        "from torch.cuda import amp\n",
        "\n",
        "import timm\n",
        "\n",
        "# Albumentations for augmentations\n",
        "import albumentations as A\n",
        "from albumentations.pytorch import ToTensorV2\n",
        "\n",
        "import rasterio\n",
        "from joblib import Parallel, delayed\n",
        "\n",
        "# For colored terminal text\n",
        "from colorama import Fore, Back, Style\n",
        "c_  = Fore.GREEN\n",
        "sr_ = Style.RESET_ALL\n",
        "\n",
        "import warnings\n",
        "warnings.filterwarnings(\"ignore\")\n",
        "\n",
        "# For descriptive error messages\n",
        "os.environ['CUDA_LAUNCH_BLOCKING'] = \"1\"\n",
        "\n",
        "import pydicom as dicom\n",
        "import nibabel as nib\n",
        "import sys\n",
        "import glob\n",
        "import os\n",
        "import numpy as np\n",
        "import h5py\n",
        "from sklearn.preprocessing import StandardScaler"
      ]
    },
    {
      "cell_type": "code",
      "execution_count": null,
      "metadata": {},
      "outputs": [],
      "source": [
        "import pydicom as dicom\n",
        "import nibabel as nib\n",
        "import sys\n",
        "import glob\n",
        "import os\n",
        "import numpy as np\n",
        "import h5py\n",
        "from sklearn.preprocessing import StandardScaler"
      ]
    },
    {
      "cell_type": "markdown",
      "metadata": {},
      "source": [
        "# Данные\n",
        "\n"
      ]
    },
    {
      "cell_type": "markdown",
      "metadata": {},
      "source": [
        "## Для скачивания 13 семплов из открытых источников "
      ]
    },
    {
      "cell_type": "code",
      "execution_count": null,
      "metadata": {},
      "outputs": [],
      "source": [
        "def read_nii(filepath):\n",
        "    '''\n",
        "    Reads .nii file and returns pixel array\n",
        "    '''\n",
        "    ct_scan = nib.load(filepath)\n",
        "    array   = ct_scan.get_fdata()\n",
        "    array   = np.rot90(np.array(array),3)\n",
        "    return(array)"
      ]
    },
    {
      "cell_type": "code",
      "execution_count": null,
      "metadata": {},
      "outputs": [],
      "source": [
        "img_dir = r'C:\\Users\\User\\Desktop\\NIR\\example-dataset\\example-dataset' \n",
        "dataset_X = []\n",
        "dataset_y = []\n",
        "for split in ['train','val']:\n",
        "        files = glob.glob(os.path.join(img_dir, split, '**'))\n",
        "        negative_samples = []\n",
        "        for i, subject in enumerate(files):\n",
        "            print('{}/{} {}'.format(i+1,len(files),subject))\n",
        "            mask = os.path.join(subject, 'mask.nii')\n",
        "            cor_t1_c = os.path.join(subject, 'COR_T1_C.nii')\n",
        "            # cor_t1 = os.path.join(subject, 'COR_T1.nii')\n",
        "            cor_t2 = os.path.join(subject, 'COR_T2.nii')\n",
        "\n",
        "            sample_t1_c = read_nii(cor_t1_c)\n",
        "            # sample_t1 = read_nii(cor_t1)\n",
        "            sample_t2 = read_nii(cor_t2)\n",
        "            sample_mask  = read_nii(mask)\n",
        "\n",
        "            for i in range(sample_mask.shape[-1]):\n",
        "                for j in [ sample_t1_c,sample_t2]:\n",
        "                    if (sum(sum(sample_mask[...,i])))>0:\n",
        "                            mask = sample_mask[...,i]\n",
        "                            mask[mask==3] = 0\n",
        "                            mask[mask==2] = 0\n",
        "                            dataset_X.append(j[...,i])\n",
        "                            dataset_y.append(sample_mask[...,i])\n",
        "\n",
        "\n"
      ]
    },
    {
      "cell_type": "code",
      "execution_count": null,
      "metadata": {},
      "outputs": [],
      "source": [
        "img_dir = r'C:\\Users\\User\\Desktop\\NIR\\example-dataset\\example-dataset'\n",
        "dataset_X = []\n",
        "dataset_y = []\n",
        "for split in ['train']:\n",
        "        files = glob.glob(os.path.join(img_dir, split, '**'))\n",
        "        negative_samples = []\n",
        "        for i, subject in enumerate(files):\n",
        "            print('{}/{} {}'.format(i+1,len(files),subject))\n",
        "            mask = os.path.join(subject, 'mask.nii')\n",
        "            cor_t1_c = os.path.join(subject, 'COR_T1_C.nii')\n",
        "            cor_t1 = os.path.join(subject, 'COR_T1.nii')\n",
        "            cor_t2 = os.path.join(subject, 'COR_T2.nii')\n",
        "            \n",
        "            sample_t1_c = read_nii(cor_t1_c)\n",
        "            sample_t1 = read_nii(cor_t1)\n",
        "            sample_t2 = read_nii(cor_t2)\n",
        "            sample_mask  = read_nii(mask)\n",
        "\n",
        "            for i in range(sample_mask.shape[-1]):\n",
        "                for j in [ sample_t1_c,sample_t1,sample_t2]:\n",
        "                    if (sum(sum(sample_mask[...,i])))>0:\n",
        "                            mask = sample_mask[...,i]\n",
        "                            mask[mask==3] = 0\n",
        "                            mask[mask==2] = 0\n",
        "                            dataset_X.append(j[...,i])\n",
        "                            dataset_y.append(sample_mask[...,i])\n",
        "\n",
        "dataset_y= np.expand_dims(dataset_y, axis = -1)"
      ]
    },
    {
      "cell_type": "code",
      "execution_count": null,
      "metadata": {},
      "outputs": [],
      "source": [
        "np.expand_dims(dataset_X, axis = -1).shape"
      ]
    },
    {
      "cell_type": "code",
      "execution_count": null,
      "metadata": {},
      "outputs": [],
      "source": [
        "img_dir = r'C:\\Users\\User\\Desktop\\NIR\\example-dataset\\example-dataset'\n",
        "dataset_X_v = []\n",
        "dataset_y_v = []\n",
        "for split in ['val']:\n",
        "        files = glob.glob(os.path.join(img_dir, split, '**'))\n",
        "        negative_samples = []\n",
        "        for i, subject in enumerate(files):\n",
        "            print('{}/{} {}'.format(i+1,len(files),subject))\n",
        "            mask = os.path.join(subject, 'mask.nii')\n",
        "            cor_t1_c = os.path.join(subject, 'COR_T1_C.nii')\n",
        "            # cor_t1 = os.path.join(subject, 'COR_T1.nii')\n",
        "            # cor_t2 = os.path.join(subject, 'COR_T2.nii')\n",
        "\n",
        "            sample_t1_c = read_nii(cor_t1_c)\n",
        "            # sample_t1 = read_nii(cor_t1)\n",
        "            # sample_t2 = read_nii(cor_t2)\n",
        "            sample_mask  = read_nii(mask)\n",
        "\n",
        "            for i in range(sample_mask.shape[-1]):\n",
        "                for j in [ sample_t1_c]:\n",
        "                    if (sum(sum(sample_mask[...,i])))>0:\n",
        "                            mask = sample_mask[...,i]\n",
        "                            mask[mask==3] = 0\n",
        "                            mask[mask==2] = 0\n",
        "                            dataset_X_v.append(j[...,i])\n",
        "                            dataset_y_v.append(sample_mask[...,i])\n",
        "dataset_y_v= np.expand_dims(dataset_y_v, axis = -1)"
      ]
    },
    {
      "cell_type": "markdown",
      "metadata": {},
      "source": [
        "## Для преобразования меток и масок сегментации\n"
      ]
    },
    {
      "cell_type": "code",
      "execution_count": null,
      "metadata": {},
      "outputs": [],
      "source": [
        "def read_labels_from_file(file_path):\n",
        "    values = []\n",
        "    with open(file_path, 'r', encoding='utf-8') as f:\n",
        "        lines = f.readlines()\n",
        "        for line in lines:\n",
        "            try:\n",
        "                value = int(line.split(': ')[1])\n",
        "            except ValueError:\n",
        "                value = line.split(': ')[1].strip()  # Если значение не может быть преобразовано в int, оставляем его как строку\n",
        "            if str(value) in ['3а'  ,'3','3a']:\n",
        "                value = '3a'\n",
        "            values.append(value)\n",
        "    return values"
      ]
    },
    {
      "cell_type": "code",
      "execution_count": null,
      "metadata": {},
      "outputs": [],
      "source": [
        "file_path = os.path.join('data_TEST/ID_65', 'labels.txt')\n",
        "\n",
        "values = read_labels_from_file('data_TEST/ID_89/labels.txt')\n",
        "print(values)"
      ]
    },
    {
      "cell_type": "code",
      "execution_count": null,
      "metadata": {},
      "outputs": [],
      "source": [
        "def load_tif(x_path, y_path,count_dict, step=4): #преобразует tif в массив масок и снимков\n",
        "    images = []\n",
        "    masks = []\n",
        "    mean = []\n",
        "    image = Image.open(x_path)\n",
        "    mask = Image.open(y_path)\n",
        "    i = 0\n",
        "    cnt = 0\n",
        "    \n",
        "    while True:\n",
        "        try:\n",
        "            mask.seek(i)\n",
        "            mask_array = np.array(mask)\n",
        "            image.seek(i)\n",
        "            image_array = np.array(image)\n",
        "            mean.append(sum(sum(mask_array)))\n",
        "            if sum(sum(mask_array)) > 0: #Проверка, что маска не полностью черная\n",
        "                    masks.append(mask_array)\n",
        "                    images.append(image_array)\n",
        "            cnt+=1\n",
        "                    \n",
        "            i += 1\n",
        "        except EOFError:\n",
        "            break\n",
        "\n",
        "    if 'T1' in x_path:\n",
        "        count_dict['scan'].append('T1')\n",
        "    elif 'T2' in x_path:\n",
        "        count_dict['scan'].append('T2')     \n",
        "    count_dict['count'].append(cnt)\n",
        "    \n",
        "    return images, masks"
      ]
    },
    {
      "cell_type": "code",
      "execution_count": null,
      "metadata": {},
      "outputs": [],
      "source": [
        "def get_images(x_pathes, y_pathes):\n",
        "\n",
        "    images =[]\n",
        "    masks = []\n",
        "    count_dict = {'scan':[],'count':[],}\n",
        "    for x_path, y_path in zip(x_pathes, y_pathes):\n",
        "          \n",
        "          images_sample,mask_sample = load_tif(x_path, y_path,count_dict)\n",
        "          for im,ms in zip(images_sample,mask_sample):\n",
        "                \n",
        "                images.append(im)\n",
        "                masks.append(ms)\n",
        "            #     fig , ax =  plt.subplots( 1,2, figsize=(18, 18))\n",
        "            #     # for i in range(len(ms[7:14])):\n",
        "            #     # ax[i][0].imshow(im[i])\n",
        "            #     # ax[i][1].imshow(ms[i])\n",
        "            #     ax[0].imshow(im)\n",
        "            #     ax[1].imshow(im)\n",
        "            #     ax[1].imshow(ms, alpha=0.5)\n",
        "            #     plt.show()\n",
        "    print(len(count_dict['count']))\n",
        "    return images, masks ,count_dict"
      ]
    },
    {
      "cell_type": "code",
      "execution_count": null,
      "metadata": {},
      "outputs": [],
      "source": [
        "def get_images_mean(x_pathes, y_pathes):\n",
        "\n",
        "    images =[]\n",
        "    masks = []\n",
        "    count_dict = {'scan':[],'count':[],}\n",
        "    for x_path, y_path in zip(x_pathes, y_pathes):\n",
        "          \n",
        "          images_sample,mask_sample = load_tif(x_path, y_path,count_dict)\n",
        "          for im,ms in zip(images_sample,mask_sample):\n",
        "                \n",
        "                images.append(im)\n",
        "                masks.append(ms)\n",
        "            #     fig , ax =  plt.subplots( 1,2, figsize=(18, 18))\n",
        "            #     # for i in range(len(ms[7:14])):\n",
        "            #     # ax[i][0].imshow(im[i])\n",
        "            #     # ax[i][1].imshow(ms[i])\n",
        "            #     ax[0].imshow(im)\n",
        "            #     ax[1].imshow(im)\n",
        "            #     ax[1].imshow(ms, alpha=0.5)\n",
        "            #     plt.show()\n",
        "    print(len(count_dict['count']))\n",
        "    return images, masks ,count_dict"
      ]
    },
    {
      "cell_type": "code",
      "execution_count": null,
      "metadata": {},
      "outputs": [],
      "source": [
        "def get_pathes(path): #обходит директорию и сохранятет пути пациентов \n",
        "    x_pathes_all = []\n",
        "    y_pathes_all = []\n",
        "    for patient in os.listdir(path):\n",
        "        x_pathes = []\n",
        "        y_pathes = []\n",
        "      \n",
        "        for ID_s in os.listdir(path + '/'+ patient ):\n",
        "            if 'ID' in ID_s:\n",
        "                msk_t1 = 0\n",
        "                msk_t2 = 0  \n",
        "                for tif_name in os.listdir(path + '/'+ patient + '/'+ID_s):\n",
        "    \n",
        "                    if 'Cor' in tif_name:\n",
        "                        if 'T1' in tif_name:\n",
        "            \n",
        "                            if  'mask' not in tif_name.lower():\n",
        "                                x_pathes.append(path + '/'+ patient + '/' + ID_s + '/'+ tif_name)\n",
        "\n",
        "                            elif 'mask' in tif_name.lower():\n",
        "                                msk_t1 = 1\n",
        "                                y_pathes.append(path + '/'+ patient + '/'+ID_s + '/' + tif_name)\n",
        "\n",
        "                        elif 'T2' in tif_name:\n",
        "                            \n",
        "                            if 'mask' not in tif_name.lower():\n",
        "                                x_pathes.append(path + '/'+ patient + '/'+ID_s + '/' + tif_name)\n",
        "                              \n",
        "                            elif 'mask' in tif_name.lower():\n",
        "                                msk_t2 = 1\n",
        "                                y_pathes.append(path + '/'+ patient + '/'+ID_s + '/' + tif_name)\n",
        "                        \n",
        "                if msk_t1==0:\n",
        "                    x_pathes.pop()\n",
        "                if msk_t2==0:\n",
        "                    x_pathes.pop()\n",
        "                        \n",
        "        x_pathes_all.append(x_pathes)\n",
        "        y_pathes_all.append(y_pathes)\n",
        "                \n",
        "                \n",
        "    return x_pathes_all, y_pathes_all\n"
      ]
    },
    {
      "cell_type": "code",
      "execution_count": null,
      "metadata": {},
      "outputs": [],
      "source": [
        "def flatten(xss): # для развертки и однородности списков \n",
        "    return [x for xs in xss for x in xs]"
      ]
    },
    {
      "cell_type": "code",
      "execution_count": null,
      "metadata": {},
      "outputs": [],
      "source": [
        "x_pth ,y_pth = get_pathes('data_08_06_24_cls141_seg105')"
      ]
    },
    {
      "cell_type": "code",
      "execution_count": null,
      "metadata": {},
      "outputs": [],
      "source": [
        "x_pth"
      ]
    },
    {
      "cell_type": "code",
      "execution_count": null,
      "metadata": {},
      "outputs": [],
      "source": [
        "len(im)"
      ]
    },
    {
      "cell_type": "code",
      "execution_count": null,
      "metadata": {},
      "outputs": [],
      "source": [
        "x_pth ,y_pth = [flatten(i) for i in [x_pth ,y_pth]]"
      ]
    },
    {
      "cell_type": "code",
      "execution_count": null,
      "metadata": {},
      "outputs": [],
      "source": [
        "im,ms,cnt= get_images(x_pth ,y_pth)"
      ]
    },
    {
      "cell_type": "markdown",
      "metadata": {},
      "source": [
        "## Визуализация статистики по маскам\n"
      ]
    },
    {
      "cell_type": "code",
      "execution_count": null,
      "metadata": {},
      "outputs": [],
      "source": [
        "import pandas as pd\n",
        "import seaborn as sns\n",
        "import matplotlib.pyplot as plt"
      ]
    },
    {
      "cell_type": "code",
      "execution_count": null,
      "metadata": {},
      "outputs": [],
      "source": [
        "max_length = image_count_all['count'].apply(len).max()\n",
        "image_count_all['count'] = image_count_all['count'].apply(lambda x: x + [0]*(max_length-len(x)))\n",
        "\n",
        "# Вычисляем средние значения пикселей по каждой позиции для каждого типа сканирования\n",
        "averages = image_count_all.groupby('scan')['count'].apply(lambda x: np.mean(x.tolist(), axis=0)).reset_index()\n",
        "\n",
        "# Построение графиков с наложением\n",
        "plt.figure(figsize=(10, 6))\n",
        "\n",
        "# Проходимся по всем строкам DataFrame и строим графики\n",
        "for index, row in averages.iterrows():\n",
        "    plt.plot(row['count'], label=row['scan'])\n",
        "\n",
        "# Добавляем легенду и отображаем график\n",
        "plt.legend()\n",
        "plt.xlabel('Position')\n",
        "plt.ylabel('Average Pixel Value')\n",
        "plt.title('Average Pixel Distribution by Position for Each Scan')"
      ]
    },
    {
      "cell_type": "code",
      "execution_count": null,
      "metadata": {},
      "outputs": [],
      "source": [
        "image_count_all= pd.DataFrame(cnt)\n",
        "image_count_all"
      ]
    },
    {
      "cell_type": "code",
      "execution_count": null,
      "metadata": {},
      "outputs": [],
      "source": [
        "# image_count_all= pd.DataFrame(cnt,columns=['type','count'])\n",
        "sns.histplot(data = image_count_all,x='count',hue='scan', stat=\"density\")"
      ]
    },
    {
      "cell_type": "code",
      "execution_count": null,
      "metadata": {},
      "outputs": [],
      "source": [
        "# image_count_all= pd.DataFrame(cnt,columns=['image_count_all'])\n",
        "sns.histplot(data = image_count_all,x='count')\n",
        "    stat=\"density\")"
      ]
    },
    {
      "cell_type": "code",
      "execution_count": null,
      "metadata": {},
      "outputs": [],
      "source": [
        "len(im)"
      ]
    },
    {
      "cell_type": "code",
      "execution_count": null,
      "metadata": {},
      "outputs": [],
      "source": [
        "len(ms)"
      ]
    },
    {
      "cell_type": "code",
      "execution_count": null,
      "metadata": {},
      "outputs": [],
      "source": [
        "from sklearn.model_selection import train_test_split"
      ]
    },
    {
      "cell_type": "code",
      "execution_count": null,
      "metadata": {},
      "outputs": [],
      "source": [
        "x_pth ,y_pth = [flatten(i) for i in [x_pth ,y_pth]]"
      ]
    },
    {
      "cell_type": "code",
      "execution_count": null,
      "metadata": {},
      "outputs": [],
      "source": [
        "y_pth"
      ]
    },
    {
      "cell_type": "code",
      "execution_count": null,
      "metadata": {},
      "outputs": [],
      "source": [
        "x_pth"
      ]
    },
    {
      "cell_type": "code",
      "execution_count": null,
      "metadata": {},
      "outputs": [],
      "source": [
        "im,ms,cnt = get_images(x_pth ,y_pth)"
      ]
    },
    {
      "cell_type": "code",
      "execution_count": null,
      "metadata": {},
      "outputs": [],
      "source": [
        "import seaborn as sns"
      ]
    },
    {
      "cell_type": "code",
      "execution_count": null,
      "metadata": {},
      "outputs": [],
      "source": [
        "image_count_all= pd.DataFrame(cnt,columns=['image_count_all'])"
      ]
    },
    {
      "cell_type": "code",
      "execution_count": null,
      "metadata": {},
      "outputs": [],
      "source": [
        "image_count_all"
      ]
    },
    {
      "cell_type": "code",
      "execution_count": null,
      "metadata": {},
      "outputs": [],
      "source": [
        "sns.histplot(data = image_count_all,x='image_count_all',\n",
        "    stat=\"density\")"
      ]
    },
    {
      "cell_type": "code",
      "execution_count": null,
      "metadata": {},
      "outputs": [],
      "source": [
        "sns.histplot(data = image_count,x='image_count',\n",
        "    stat=\"density\")"
      ]
    },
    {
      "cell_type": "code",
      "execution_count": null,
      "metadata": {},
      "outputs": [],
      "source": [
        "len(ms)"
      ]
    },
    {
      "cell_type": "code",
      "execution_count": null,
      "metadata": {},
      "outputs": [],
      "source": [
        "def flatten(xss):\n",
        "    return [x for xs in xss for x in xs]"
      ]
    },
    {
      "cell_type": "code",
      "execution_count": null,
      "metadata": {},
      "outputs": [],
      "source": [
        "x_pth_train,x_pth_val,y_pth_train,y_pth_val = train_test_split(x_pth , y_pth, test_size=0.14)\n",
        "\n",
        "print(x_pth_train)\n",
        "x_pth_train,y_pth_train,x_pth_val,y_pth_val = flatten(x_pth_train) ,flatten(y_pth_train),flatten(x_pth_val),flatten(y_pth_val)"
      ]
    },
    {
      "cell_type": "code",
      "execution_count": null,
      "metadata": {},
      "outputs": [],
      "source": [
        "len(y_pth_val)"
      ]
    },
    {
      "cell_type": "code",
      "execution_count": null,
      "metadata": {},
      "outputs": [],
      "source": [
        "x_val,y_val,_ = get_images(x_pth_val ,y_pth_val) \n",
        "x_train,y_train,_= get_images(x_pth_train ,y_pth_train)"
      ]
    },
    {
      "cell_type": "code",
      "execution_count": null,
      "metadata": {},
      "outputs": [],
      "source": [
        "len(x_train)"
      ]
    },
    {
      "cell_type": "code",
      "execution_count": null,
      "metadata": {},
      "outputs": [],
      "source": [
        "len(x_val)"
      ]
    },
    {
      "cell_type": "markdown",
      "metadata": {},
      "source": [
        "## Датасет"
      ]
    },
    {
      "cell_type": "code",
      "execution_count": null,
      "metadata": {},
      "outputs": [],
      "source": [
        "class BuildDataset(torch.utils.data.Dataset): # загружает в оперативную память так как на стенде 128Гб \n",
        "    def __init__(self, X,y, label=True, transforms=None):\n",
        "        self.label      = label\n",
        "        self.img_paths  = X\n",
        "        self.msk_paths  = y\n",
        "        self.transforms = transforms\n",
        "        \n",
        "    def __len__(self):\n",
        "        return len(self.img_paths)\n",
        "    \n",
        "    def __getitem__(self, index):\n",
        "        if self.label == True:\n",
        "            img = self.img_paths[index]\n",
        "            msk = self.msk_paths[index]\n",
        "            if self.transforms:\n",
        "                data = self.transforms(image=np.array(img/255., dtype=np.float32)  , mask=np.array(msk, dtype=np.float32))\n",
        "                img  = data['image']\n",
        "                msk  = data['mask']\n",
        "\n",
        "            return torch.tensor([img]), torch.tensor([msk])\n",
        "        else:\n",
        "            img = self.img_paths[index]\n",
        "            if self.transforms:\n",
        "                data = self.transforms(image=np.array(img/255., dtype=np.float32))\n",
        "                img  = data['image']\n",
        "            return torch.tensor([img])"
      ]
    },
    {
      "cell_type": "code",
      "execution_count": null,
      "metadata": {},
      "outputs": [],
      "source": [
        "data_transforms = {\n",
        "    \"train\": A.Compose([\n",
        "        A.augmentations.crops.transforms.CenterCrop(224,224),\n",
        "        A.Resize(224,224, interpolation=cv2.INTER_NEAREST),\n",
        "        A.HorizontalFlip(p=0.5),\n",
        "        A.VerticalFlip(p=0.5),\n",
        "        A.ShiftScaleRotate(shift_limit=0.0625, scale_limit=0.05, rotate_limit=10, p=1.),\n",
        "        A.OneOf([\n",
        "            A.GridDistortion(num_steps=5, distort_limit=0.05, p=1.0),\n",
        "# #             A.OpticalDistortion(distort_limit=0.05, shift_limit=0.05, p=1.0),\n",
        "            A.ElasticTransform(alpha=1, sigma=50, alpha_affine=50, p=1.0)\n",
        "        ], p=0.25),\n",
        "        A.CoarseDropout(max_holes=8, max_height=224//20, max_width=224//20,\n",
        "                         min_holes=5, fill_value=0, mask_fill_value=0, p=1.0),\n",
        "        A.augmentations.Normalize(mean=(0.485, ), std=(0.229, )),\n",
        "        ]\n",
        "        , p=1.0),\n",
        "    \n",
        "    \"valid\": A.Compose([\n",
        "        A.augmentations.crops.transforms.CenterCrop(224,224),\n",
        "        A.Resize(224,224, interpolation=cv2.INTER_NEAREST),\n",
        "        A.augmentations.Normalize(mean=(0.485, ), std=(0.229, )),\n",
        "        ], p=1.0)\n",
        "}"
      ]
    },
    {
      "cell_type": "code",
      "execution_count": null,
      "metadata": {},
      "outputs": [],
      "source": [
        "train_dataset = BuildDataset( np.concatenate((dataset_X, x_train), axis=0),np.concatenate((dataset_y, y_train), axis=0), transforms=data_transforms['valid'])\n",
        "# train_dataset = BuildDataset(  x_train, y_train, transforms=None)\n",
        "valid_dataset = BuildDataset(x_val,y_val, transforms=data_transforms['valid'])\n",
        "\n",
        "train_loader = DataLoader(train_dataset, batch_size=5,shuffle=True)\n",
        "valid_loader = DataLoader(valid_dataset, batch_size=16, shuffle=True)\n"
      ]
    },
    {
      "cell_type": "code",
      "execution_count": null,
      "metadata": {},
      "outputs": [],
      "source": [
        "md = SegmentationModel(model_type='seg_test', base_dir=\"\" )\n",
        "res = md.predict(x_train[0:15])"
      ]
    },
    {
      "cell_type": "code",
      "execution_count": null,
      "metadata": {},
      "outputs": [],
      "source": [
        "plt.imshow(res[14][0])"
      ]
    },
    {
      "cell_type": "code",
      "execution_count": null,
      "metadata": {},
      "outputs": [],
      "source": [
        "res"
      ]
    },
    {
      "cell_type": "code",
      "execution_count": null,
      "metadata": {},
      "outputs": [],
      "source": [
        "plt.imshow(md.result_masks[10])"
      ]
    },
    {
      "cell_type": "code",
      "execution_count": null,
      "metadata": {},
      "outputs": [],
      "source": [
        "def plot_batch(imgs, msks, size=3):\n",
        "    plt.figure(figsize=(5*5, 5))\n",
        "    for idx in range(size):\n",
        "        plt.subplot(1, size, idx+1)\n",
        "        img = imgs[idx,].permute((1, 2, 0)).numpy()*255.0\n",
        " \n",
        "        msk = msks[idx,].permute((1, 2, 0)).numpy()\n",
        "        show_img(img, msk)\n",
        "    plt.tight_layout()\n",
        "    plt.show()"
      ]
    },
    {
      "cell_type": "code",
      "execution_count": null,
      "metadata": {},
      "outputs": [],
      "source": [
        "def show_img(img, mask=None):\n",
        "\n",
        "#     img = clahe.apply(img)\n",
        "#     plt.figure(figsize=(10,10))\n",
        "    plt.imshow(img, cmap='bone')\n",
        "    \n",
        "    \n",
        "        # plt.imshow(np.ma.masked_where(mask!=1, mask), alpha=0.5, cmap='autumn')\n",
        "    plt.imshow(mask, alpha=0.5)\n",
        "    handles = [Rectangle((0,0),1,1, color=_c) for _c in [(0.667,0.0,0.0)]]\n",
        "    labels = [\"Adenoma\"]\n",
        "    plt.legend(handles,labels)\n",
        "    plt.axis('off')"
      ]
    },
    {
      "cell_type": "code",
      "execution_count": null,
      "metadata": {},
      "outputs": [],
      "source": [
        "train_dataset = BuildDataset( np.concatenate((dataset_X, x_train), axis=0),np.concatenate((dataset_y, y_train), axis=0), transforms=None)\n",
        "valid_dataset = BuildDataset(x_val,y_val, transforms=data_transforms['valid'])\n",
        "\n",
        "train_loader = DataLoader(train_dataset, batch_size=32, shuffle=True)\n",
        "valid_loader = DataLoader(valid_dataset, batch_size=32, shuffle=True)"
      ]
    },
    {
      "cell_type": "code",
      "execution_count": null,
      "metadata": {},
      "outputs": [],
      "source": [
        "len(np.concatenate((dataset_X, x_train)))"
      ]
    },
    {
      "cell_type": "code",
      "execution_count": null,
      "metadata": {},
      "outputs": [],
      "source": [
        "imgs, msks = next(iter(train_loader))\n",
        "imgs.size(), msks.size()\n",
        "plot_batch(imgs, msks, size=5)"
      ]
    },
    {
      "cell_type": "code",
      "execution_count": null,
      "metadata": {},
      "outputs": [],
      "source": [
        "plot_batch(imgs, imgs, size=5)"
      ]
    },
    {
      "cell_type": "code",
      "execution_count": null,
      "metadata": {},
      "outputs": [],
      "source": [
        "plot_batch(msks, msks, size=5)"
      ]
    },
    {
      "cell_type": "markdown",
      "metadata": {},
      "source": [
        "# Модель и обучение"
      ]
    },
    {
      "cell_type": "code",
      "execution_count": null,
      "metadata": {},
      "outputs": [],
      "source": [
        "import gc\n",
        "gc.collect()"
      ]
    },
    {
      "cell_type": "markdown",
      "metadata": {},
      "source": [
        "## Архитектура "
      ]
    },
    {
      "cell_type": "code",
      "execution_count": null,
      "metadata": {},
      "outputs": [],
      "source": [
        "import segmentation_models_pytorch as smp\n",
        "\n",
        "def build_model():\n",
        "    model = smp.UnetPlusPlus(\n",
        "        encoder_name='efficientnet-b1' ,     # choose encoder, e.g. mobilenet_v2 or efficientnet-b7\n",
        "        encoder_weights='imagenet',     # use `imagenet` pre-trained weights for encoder initialization\n",
        "        in_channels=1,                  # model input channels (1 for gray-scale images, 3 for RGB, etc.)\n",
        "        classes=1   ,     # model output channels (number of classes in your dataset)\n",
        "        activation=None,\n",
        "    )\n",
        "    model.to('cuda')\n",
        "    return model\n",
        "\n",
        "def load_model(path):\n",
        "    model = build_model()\n",
        "    model.load_state_dict(torch.load(path))\n",
        "    model.eval()\n",
        "    return model"
      ]
    },
    {
      "cell_type": "code",
      "execution_count": null,
      "metadata": {},
      "outputs": [],
      "source": [
        "model"
      ]
    },
    {
      "cell_type": "markdown",
      "metadata": {},
      "source": [
        "## Loss"
      ]
    },
    {
      "cell_type": "code",
      "execution_count": null,
      "metadata": {},
      "outputs": [],
      "source": [
        "JaccardLoss = smp.losses.JaccardLoss(mode='binary')\n",
        "DiceLoss    = smp.losses.DiceLoss(mode='binary')\n",
        "BCELoss     = smp.losses.SoftBCEWithLogitsLoss()\n",
        "LovaszLoss  = smp.losses.LovaszLoss(mode='binary', per_image=False)\n",
        "TverskyLoss = smp.losses.TverskyLoss(mode='binary', log_loss=False)\n",
        "\n",
        "def dice_coef(y_true, y_pred, thr=0.5, dim=(2,3), epsilon=0.001):\n",
        "    y_true = y_true.to(torch.float32)\n",
        "    y_pred = (y_pred>thr).to(torch.float32)\n",
        "    inter = (y_true*y_pred).sum(dim=dim)\n",
        "    den = y_true.sum(dim=dim) + y_pred.sum(dim=dim)\n",
        "    dice = ((2*inter+epsilon)/(den+epsilon)).mean(dim=(1,0))\n",
        "    return dice\n",
        "\n",
        "def iou_coef(y_true, y_pred, thr=0.5, dim=(2,3), epsilon=0.001):\n",
        "    y_true = y_true.to(torch.float32)\n",
        "    y_pred = (y_pred>thr).to(torch.float32)\n",
        "    inter = (y_true*y_pred).sum(dim=dim)\n",
        "    union = (y_true + y_pred - y_true*y_pred).sum(dim=dim)\n",
        "    iou = ((inter+epsilon)/(union+epsilon)).mean(dim=(1,0))\n",
        "    return iou\n",
        "\n",
        "def criterion(y_pred, y_true):\n",
        "    return BCELoss(y_pred, y_true) +TverskyLoss(y_pred, y_true) \n",
        "    # return 0.5*BCELoss(y_pred, y_true) + 0.5*TverskyLoss(y_pred, y_true)"
      ]
    },
    {
      "cell_type": "markdown",
      "metadata": {},
      "source": [
        "## Цикл обучения\n"
      ]
    },
    {
      "cell_type": "code",
      "execution_count": null,
      "metadata": {},
      "outputs": [],
      "source": [
        "def train_one_epoch(model, optimizer, scheduler, dataloader, device, epoch):\n",
        "    model.train()\n",
        "    scaler = amp.GradScaler()\n",
        "    train_scores = []\n",
        "    dataset_size = 0\n",
        "    running_loss = 0.0\n",
        "    \n",
        "    pbar = tqdm(enumerate(dataloader), total=len(dataloader), desc='Train ')\n",
        "    for step, (images, masks) in pbar:         \n",
        "        images = images.to(device, dtype=torch.float)\n",
        "        masks  = masks.to(device, dtype=torch.float)\n",
        "        \n",
        "        batch_size = images.size(0)\n",
        "        \n",
        "        with amp.autocast(enabled=True):\n",
        "            y_pred = model(images)\n",
        "            \n",
        "            loss   = criterion(y_pred, masks)\n",
        "            loss   = loss / CFG.n_accumulate\n",
        "            \n",
        "        scaler.scale(loss).backward()\n",
        "    \n",
        "        if (step + 1) % CFG.n_accumulate == 0:\n",
        "            scaler.step(optimizer)\n",
        "            scaler.update()\n",
        "\n",
        "            # zero the parameter gradients\n",
        "            optimizer.zero_grad()\n",
        "\n",
        "            if scheduler is not None:\n",
        "                scheduler.step()\n",
        "                \n",
        "        running_loss += (loss.item() * batch_size)\n",
        "        dataset_size += batch_size\n",
        "        \n",
        "        epoch_loss = running_loss / dataset_size\n",
        "\n",
        "        y_pred = (nn.Sigmoid()(y_pred)).double()\n",
        "        train_dice = dice_coef(masks, y_pred).cpu().detach().numpy()\n",
        "        vtrain_jaccard = iou_coef(masks, y_pred).cpu().detach().numpy()\n",
        "        train_scores.append([train_dice, vtrain_jaccard])\n",
        "        \n",
        "        mem = torch.cuda.memory_reserved() / 1E9 if torch.cuda.is_available() else 0\n",
        "        current_lr = optimizer.param_groups[0]['lr']\n",
        "        pbar.set_postfix(train_loss=f'{epoch_loss:0.4f}',\n",
        "                        lr=f'{current_lr:0.5f}',\n",
        "                        gpu_mem=f'{mem:0.2f} GB')\n",
        "        \n",
        "    train_scores  = np.mean(train_scores, axis=0)    \n",
        "    torch.cuda.empty_cache()\n",
        "    gc.collect()\n",
        "    \n",
        "    return epoch_loss,train_scores"
      ]
    },
    {
      "cell_type": "code",
      "execution_count": null,
      "metadata": {},
      "outputs": [],
      "source": [
        "@torch.no_grad()\n",
        "def valid_one_epoch(model, dataloader, device, epoch):\n",
        "    model.eval()\n",
        "    \n",
        "    dataset_size = 0\n",
        "    running_loss = 0.0\n",
        "    \n",
        "    val_scores = []\n",
        "    \n",
        "    pbar = tqdm(enumerate(dataloader), total=len(dataloader), desc='Valid ')\n",
        "    for step, (images, masks) in pbar:        \n",
        "        images  = images.to(device, dtype=torch.float)\n",
        "        masks   = masks.to(device, dtype=torch.float)\n",
        "        \n",
        "        batch_size = images.size(0)\n",
        "        \n",
        "        y_pred  = model(images)\n",
        "        loss    = criterion(y_pred, masks)\n",
        "        \n",
        "        running_loss += (loss.item() * batch_size)\n",
        "        dataset_size += batch_size\n",
        "        \n",
        "        epoch_loss = running_loss / dataset_size\n",
        "        \n",
        "        y_pred = (nn.Sigmoid()(y_pred)).double()\n",
        "        val_dice = dice_coef(masks, y_pred).cpu().detach().numpy()\n",
        "        val_jaccard = iou_coef(masks, y_pred).cpu().detach().numpy()\n",
        "        val_scores.append([val_dice, val_jaccard])\n",
        "        \n",
        "        mem = torch.cuda.memory_reserved() / 1E9 if torch.cuda.is_available() else 0\n",
        "        current_lr = optimizer.param_groups[0]['lr']\n",
        "        pbar.set_postfix(valid_loss=f'{epoch_loss:0.4f}',\n",
        "                        lr=f'{current_lr:0.5f}',\n",
        "                        gpu_memory=f'{mem:0.2f} GB')\n",
        "        \n",
        "        \n",
        "    val_scores  = np.mean(val_scores, axis=0)\n",
        "    torch.cuda.empty_cache()\n",
        "    gc.collect()\n",
        "    \n",
        "    return epoch_loss, val_scores"
      ]
    },
    {
      "cell_type": "code",
      "execution_count": null,
      "metadata": {},
      "outputs": [],
      "source": [
        "time.time()"
      ]
    },
    {
      "cell_type": "code",
      "execution_count": null,
      "metadata": {},
      "outputs": [],
      "source": [
        "def run_training(model, optimizer, scheduler, device, num_epochs):\n",
        "    # To automatically log gradients\n",
        "    # wandb.watch(model, log_freq=100)\n",
        "    \n",
        "    if torch.cuda.is_available():\n",
        "        print(\"cuda: {}\\n\".format(torch.cuda.get_device_name()))\n",
        "    \n",
        "    start = time.time()\n",
        "    best_model_wts = copy.deepcopy(model.state_dict())\n",
        "    best_dice      = -np.inf\n",
        "    best_epoch     = -1\n",
        "    history = defaultdict(list)\n",
        "    \n",
        "    for epoch in range(1, num_epochs + 1): \n",
        "        gc.collect()\n",
        "        print(f'Epoch {epoch}/{num_epochs}', end='')\n",
        "        train_loss,train_scores = train_one_epoch(model, optimizer, scheduler, \n",
        "                                           dataloader=train_loader, \n",
        "                                           device=CFG.device, epoch=epoch)\n",
        "        train_dice,train_jaccard = train_scores\n",
        "\n",
        "        print(f'Train Dice: {train_dice:0.4f} | Train Jaccard: {train_jaccard:0.4f}')\n",
        "\n",
        "        val_loss, val_scores = valid_one_epoch(model, valid_loader, \n",
        "                                                 device=CFG.device, \n",
        "                                                 epoch=epoch)\n",
        "        val_dice, val_jaccard = val_scores\n",
        "    \n",
        "        history['Train Loss'].append(train_loss)\n",
        "        history['Train Dice'].append(train_dice)\n",
        "        history['Train Jaccard'].append(train_jaccard)\n",
        "        history['Valid Loss'].append(val_loss)\n",
        "        history['Valid Dice'].append(val_dice)\n",
        "        history['Valid Jaccard'].append(val_jaccard)\n",
        "        \n",
        "        # Log the metrics\n",
        "        # wandb.log({\"Train Loss\": train_loss, \n",
        "        #            \"Valid Loss\": val_loss,\n",
        "        #            \"Valid Dice\": val_dice,\n",
        "        #            \"Valid Jaccard\": val_jaccard,\n",
        "        #            \"LR\":scheduler.get_last_lr()[0]})\n",
        "        \n",
        "        print(f'Valid Dice: {val_dice:0.4f} | Valid Jaccard: {val_jaccard:0.4f}')\n",
        "        \n",
        "        # deep copy the model\n",
        "        if val_dice > best_dice:\n",
        "            print(f\"{c_}Valid Score Improved ({best_dice:0.4f} ---> {val_dice:0.4f})\")\n",
        "            best_dice    = val_dice\n",
        "            best_jaccard = val_jaccard\n",
        "            best_epoch   = epoch\n",
        "            run.summary[\"Best Dice\"]    = best_dice\n",
        "            run.summary[\"Best Jaccard\"] = best_jaccard\n",
        "            run.summary[\"Best Epoch\"]   = best_epoch\n",
        "            best_model_wts = copy.deepcopy(model.state_dict())\n",
        "            PATH = f\"best_epoch-{fold:02d}.bin\"\n",
        "            torch.save(model.state_dict(), PATH)\n",
        "            # Save a model file from the current directory\n",
        "            # wandb.save(PATH)\n",
        "            print(f\"Model Saved{sr_}\")\n",
        "            \n",
        "        last_model_wts = copy.deepcopy(model.state_dict())\n",
        "        PATH = f\"last_epoch-{fold:02d}.bin\"\n",
        "        torch.save(model.state_dict(), PATH)\n",
        "            \n",
        "        print(); print()\n",
        "    \n",
        "    end = time.time()\n",
        "    time_elapsed = end - start\n",
        "    print('Training complete in {:.0f}h {:.0f}m {:.0f}s'.format(\n",
        "        time_elapsed // 3600, (time_elapsed % 3600) // 60, (time_elapsed % 3600) % 60))\n",
        "    print(\"Best Score: {:.4f}\".format(best_jaccard))\n",
        "    \n",
        "    # load best model weights\n",
        "    model.load_state_dict(best_model_wts)\n",
        "    \n",
        "    return model, history"
      ]
    },
    {
      "cell_type": "code",
      "execution_count": null,
      "metadata": {},
      "outputs": [],
      "source": [
        "class CFG:\n",
        "    seed          = 42\n",
        "    debug         = False # set debug=False for Full Training\n",
        "    exp_name      = 'Baselinev2'\n",
        "    comment       = 'unet-efficientnet_b1-224x224-aug2-split2'\n",
        "    model_name    = 'Unet'\n",
        "    backbone      = 'efficientnet-b1'\n",
        "    train_bs      = 128\n",
        "    valid_bs      = train_bs*2\n",
        "    img_size      = [224, 224]\n",
        "    epochs        = 200\n",
        "    lr            = 1e-4\n",
        "    scheduler     = 'CosineAnnealingLR'\n",
        "    min_lr        = 1e-6\n",
        "    T_max         = int(30000/train_bs*epochs)+50\n",
        "    T_0           = 25\n",
        "    warmup_epochs = 0\n",
        "    wd            = 1e-6\n",
        "    n_accumulate  = max(1, 32//train_bs)\n",
        "    n_fold        = 5\n",
        "    num_classes   = 3\n",
        "    device        = torch.device(\"cuda:0\" if torch.cuda.is_available() else \"cpu\")"
      ]
    },
    {
      "cell_type": "code",
      "execution_count": null,
      "metadata": {},
      "outputs": [],
      "source": [
        "help(smp)"
      ]
    },
    {
      "cell_type": "code",
      "execution_count": null,
      "metadata": {},
      "outputs": [],
      "source": [
        "model = build_model()\n",
        "optimizer = optim.Adam(model.parameters(), lr=CFG.lr, weight_decay=CFG.wd)\n",
        "scheduler = fetch_scheduler(optimizer)"
      ]
    },
    {
      "cell_type": "code",
      "execution_count": null,
      "metadata": {},
      "outputs": [],
      "source": [
        "def fetch_scheduler(optimizer):\n",
        "    if CFG.scheduler == 'CosineAnnealingLR':\n",
        "        scheduler = lr_scheduler.CosineAnnealingLR(optimizer,T_max=CFG.T_max, \n",
        "                                                   eta_min=CFG.min_lr)\n",
        "    elif CFG.scheduler == 'CosineAnnealingWarmRestarts':\n",
        "        scheduler = lr_scheduler.CosineAnnealingWarmRestarts(optimizer,T_0=CFG.T_0, \n",
        "                                                             eta_min=CFG.min_lr)\n",
        "    elif CFG.scheduler == 'ReduceLROnPlateau':\n",
        "        scheduler = lr_scheduler.ReduceLROnPlateau(optimizer,\n",
        "                                                   mode='min',\n",
        "                                                   factor=0.1,\n",
        "                                                   patience=7,\n",
        "                                                   threshold=0.0001,\n",
        "                                                   min_lr=CFG.min_lr,)\n",
        "    elif CFG.scheduer == 'ExponentialLR':\n",
        "        scheduler = lr_scheduler.ExponentialLR(optimizer, gamma=0.85)\n",
        "    elif CFG.scheduler == None:\n",
        "        return None\n",
        "        \n",
        "    return scheduler"
      ]
    },
    {
      "cell_type": "code",
      "execution_count": null,
      "metadata": {},
      "outputs": [],
      "source": [
        "import wandb\n",
        "\n",
        "try:\n",
        "    from kaggle_secrets import UserSecretsClient\n",
        "    user_secrets = UserSecretsClient()\n",
        "    api_key = user_secrets.get_secret(\"WANDB\")\n",
        "    wandb.login(key=api_key)\n",
        "    anonymous = None\n",
        "except:\n",
        "    anonymous = \"must\"\n",
        "    print('To use your W&B account,\\nGo to Add-ons -> Secrets and provide your W&B access token. Use the Label name as WANDB. \\nGet your W&B access token from here: https://wandb.ai/authorize')"
      ]
    },
    {
      "cell_type": "code",
      "execution_count": null,
      "metadata": {},
      "outputs": [],
      "source": [
        "data_transforms = {\n",
        "    \"train\": A.Compose([\n",
        "        A.augmentations.crops.transforms.CenterCrop(256,256),\n",
        "        A.Resize(256,256, interpolation=cv2.INTER_NEAREST),\n",
        "        A.CoarseDropout(max_holes=8, max_height=256//20, max_width=256//20,\n",
        "                         min_holes=5, fill_value=0, mask_fill_value=0, p=0.5),\n",
        "        \n",
        "\n",
        "        A.HorizontalFlip(p=0.5),\n",
        "#         A.VerticalFlip(p=0.5),\n",
        "        A.ShiftScaleRotate(shift_limit=0.0625, scale_limit=0.05, rotate_limit=10, p=0.5),\n",
        "        A.OneOf([\n",
        "            A.GridDistortion(num_steps=5, distort_limit=0.05, p=1.0),\n",
        "            # A.OpticalDistortion(distort_limit=0.05, shift_limit=0.05, p=1.0),\n",
        "            A.ElasticTransform(alpha=1, sigma=50, alpha_affine=50, p=1.0)\n",
        "        ], p=0.25),\n",
        "        # A.ColorJitter(brightness=0, contrast=0.0002, saturation=0, hue=0.2, always_apply=False, p=0.5),\n",
        "        # A.CoarseDropout(max_holes=8, max_height=224//20, max_width=224//20,\n",
        "        #                  min_holes=5, fill_value=0, mask_fill_value=0, p=0.5),\n",
        "        A.augmentations.Normalize(mean=(0.485, ), std=(0.229, )),\n",
        "        ], p=1.0),\n",
        "    \n",
        "    \"valid\": A.Compose([\n",
        "        A.augmentations.crops.transforms.CenterCrop(256,256),\n",
        "        A.Resize(256,256, interpolation=cv2.INTER_NEAREST),\n",
        "        A.augmentations.Normalize(mean=(0.485, ), std=(0.229, )),\n",
        "        ], p=1.0)\n",
        "}\n",
        "train_dataset = BuildDataset(np.concatenate((dataset_X, x_train), axis=0),np.concatenate((dataset_y, y_train), axis=0), transforms=data_transforms['train'])\n",
        "valid_dataset = BuildDataset(x_val,y_val, transforms=data_transforms['valid'])\n",
        "\n",
        "train_loader = DataLoader(train_dataset, batch_size=32,shuffle=True)\n",
        "valid_loader = DataLoader(valid_dataset, batch_size=32, shuffle=False)"
      ]
    },
    {
      "cell_type": "code",
      "execution_count": null,
      "metadata": {},
      "outputs": [],
      "source": [
        "# train_dataset = BuildDataset(dataset_X,dataset_y, transforms=data_transforms['train'])\n",
        "# valid_dataset = BuildDataset(dataset_X_v,dataset_y_v, transforms=data_transforms['valid'])\n",
        "\n",
        "# train_loader = DataLoader(train_dataset, batch_size=16,shuffle=True)\n",
        "# valid_loader = DataLoader(valid_dataset, batch_size=16, shuffle=False)"
      ]
    },
    {
      "cell_type": "code",
      "execution_count": null,
      "metadata": {},
      "outputs": [],
      "source": [
        "# np.concatenate((dataset_X, x_train), axis=0),np.concatenate((dataset_y, y_train), axis=0)\n",
        "\n",
        "# train_dataset = BuildDataset(np.concatenate((dataset_X, x_train), axis=0),np.concatenate((dataset_y, y_train), axis=0), transforms=data_transforms['train'])\n",
        "# valid_dataset = BuildDataset(x_val,y_val, transforms=data_transforms['valid'])\n",
        "\n",
        "# train_loader = DataLoader(train_dataset, batch_size=32,shuffle=True)\n",
        "# valid_loader = DataLoader(valid_dataset, batch_size=32, shuffle=False)"
      ]
    },
    {
      "cell_type": "code",
      "execution_count": null,
      "metadata": {},
      "outputs": [],
      "source": [
        "len(valid_dataset)"
      ]
    },
    {
      "cell_type": "code",
      "execution_count": null,
      "metadata": {},
      "outputs": [],
      "source": [
        "# train_dataset_1 = BuildDataset(x_train,y_train, transforms=data_transforms['train'])\n",
        "# valid_dataset = BuildDataset(x_val,y_val, transforms=data_transforms['valid'])\n",
        "\n",
        "# train_loader = DataLoader(train_dataset, batch_size=64,shuffle=True, pin_memory=True, drop_last=False)\n",
        "# valid_loader = DataLoader(valid_dataset, batch_size=64, shuffle=False, pin_memory=True)"
      ]
    },
    {
      "cell_type": "code",
      "execution_count": null,
      "metadata": {},
      "outputs": [],
      "source": [
        "data_transforms_v= {\n",
        "    \"train\": A.Compose([\n",
        "        A.augmentations.crops.transforms.CenterCrop(256,256),\n",
        "        A.Resize(256,256, interpolation=cv2.INTER_NEAREST),\n",
        "        A.CoarseDropout(max_holes=8, max_height=256//20, max_width=256//20,\n",
        "                         min_holes=5, fill_value=0, mask_fill_value=0, p=0.5),\n",
        "        \n",
        "\n",
        "        A.HorizontalFlip(p=0.5),\n",
        "#         A.VerticalFlip(p=0.5),\n",
        "        A.ShiftScaleRotate(shift_limit=0.0625, scale_limit=0.05, rotate_limit=10, p=0.5),\n",
        "        A.OneOf([\n",
        "            A.GridDistortion(num_steps=5, distort_limit=0.05, p=1.0),\n",
        "            # A.OpticalDistortion(distort_limit=0.05, shift_limit=0.05, p=1.0),\n",
        "            A.ElasticTransform(alpha=1, sigma=50, alpha_affine=50, p=1.0)\n",
        "        ], p=0.25),\n",
        "        # A.ColorJitter(brightness=0, contrast=0.0002, saturation=0, hue=0.2, always_apply=False, p=0.5),\n",
        "        # A.CoarseDropout(max_holes=8, max_height=224//20, max_width=224//20,\n",
        "        #                  min_holes=5, fill_value=0, mask_fill_value=0, p=0.5),\n",
        "        A.augmentations.Normalize(mean=(0.485, ), std=(0.229, )),\n",
        "        ], p=1.0),\n",
        "    \n",
        "    \"valid\": A.Compose([\n",
        "        # A.augmentations.crops.transforms.CenterCrop(256,256),\n",
        "        # A.Resize(256,256, interpolation=cv2.INTER_NEAREST),\n",
        "        A.augmentations.Normalize(mean=(0.485, ), std=(0.229, )),\n",
        "        ], p=1.0)\n",
        "}\n",
        "valid_dataset_v = BuildDataset(x_val,y_val, transforms=data_transforms_v['valid'])\n",
        "\n",
        "valid_loader_v = DataLoader(valid_dataset_v, batch_size=4, shuffle=False, pin_memory=True)"
      ]
    },
    {
      "cell_type": "code",
      "execution_count": null,
      "metadata": {},
      "outputs": [],
      "source": [
        "imgs,msks = next(iter(valid_loader_v))\n",
        "msks.size()"
      ]
    },
    {
      "cell_type": "code",
      "execution_count": null,
      "metadata": {},
      "outputs": [],
      "source": [
        "imgs,msks = next(iter(valid_loader_v))\n",
        "plot_batch(imgs, msks, size=5)\n",
        "plot_batch(imgs, imgs, size=5)\n",
        "plot_batch(msks_2, msks_2, size=1)"
      ]
    },
    {
      "cell_type": "code",
      "execution_count": null,
      "metadata": {},
      "outputs": [],
      "source": [
        "imgs,msks = next(iter(valid_loader))\n",
        "plot_batch(imgs, msks, size=5)\n",
        "plot_batch(imgs, imgs, size=5)"
      ]
    },
    {
      "cell_type": "code",
      "execution_count": null,
      "metadata": {},
      "outputs": [],
      "source": [
        "len(train_dataset)"
      ]
    },
    {
      "cell_type": "code",
      "execution_count": null,
      "metadata": {},
      "outputs": [],
      "source": [
        "len(valid_dataset)"
      ]
    },
    {
      "cell_type": "code",
      "execution_count": null,
      "metadata": {},
      "outputs": [],
      "source": [
        "history_all_sota"
      ]
    },
    {
      "cell_type": "code",
      "execution_count": null,
      "metadata": {},
      "outputs": [],
      "source": [
        "max(history['Valid Jaccard'])"
      ]
    },
    {
      "cell_type": "code",
      "execution_count": null,
      "metadata": {},
      "outputs": [],
      "source": [
        "def build_model():\n",
        "    model = smp.UnetPlusPlus(\n",
        "        encoder_name='efficientnet-b6' ,\n",
        "                  # choose encoder, e.g. mobilenet_v2 or efficientnet-b7\n",
        "        encoder_weights='imagenet',# use `imagenet` pre-trained weights for encoder initialization\n",
        "        in_channels=1,                  # model input channels (1 for gray-scale images, 3 for RGB, etc.)\n",
        "        classes=1   ,     # model output channels (number of classes in your dataset)\n",
        "        activation=None,\n",
        "    )\n",
        "    model.to('cuda')\n",
        "    return model\n",
        "\n",
        "def load_model(path):\n",
        "    model = build_model()\n",
        "    model.load_state_dict(torch.load(path))\n",
        "    model.eval()\n",
        "    return model\n",
        "\n",
        "for fold in range(1):\n",
        "    seg_model_name = 'UNetPPEffb6_LAST'\n",
        "    print(f'#'*15)\n",
        "    print(f'### Fold: {fold}')\n",
        "    print(f'#'*15)\n",
        "    run = wandb.init(project='uw-maddison-gi-tract', \n",
        "                     config={k:v for k, v in dict(vars(CFG)).items() if '__' not in k},\n",
        "                     anonymous=anonymous,\n",
        "                     name=f\"fold-{fold}|dim-{CFG.img_size[0]}x{CFG.img_size[1]}|model-{CFG.model_name}\",\n",
        "                     group=CFG.comment,\n",
        "                    )\n",
        "    train_loader, valid_loader = train_loader,valid_loader\n",
        "    model     =   build_model()\n",
        "    # UNet(1,1).to('cuda')\n",
        "    optimizer = optim.AdamW(model.parameters(), lr=CFG.lr, weight_decay=CFG.wd)\n",
        "    scheduler =  fetch_scheduler(optimizer) \n",
        "    # fetch_scheduler(optimizer)\n",
        "    \n",
        "    model, historys_UNET = run_training(model, optimizer, scheduler,\n",
        "                                device=CFG.device,\n",
        "                                num_epochs=CFG.epochs)\n",
        "    # run.finish()\n",
        "    # display(ipd.IFrame(run.url, width=1000, height=720))\n",
        "    plt.figure(figsize=(12,9))\n",
        "\n",
        "    plt.plot(historys_UNET['Train Loss'], label=f'Training Loss')\n",
        "    plt.plot(historys_UNET['Valid Loss'], label=f'Validation Loss')\n",
        "    plt.xlabel('Epoch')\n",
        "    plt.ylabel('Loss')\n",
        "    plt.legend()\n",
        "    plt.title(f'Loss History-model{seg_model_name}')\n",
        "\n",
        "\n",
        "    plt.figure(figsize=(17,9))\n",
        "    plt.subplot(1, 2, 1)\n",
        "    plt.plot(historys_UNET['Train Dice'], label=f'Training Dice')\n",
        "    plt.plot(historys_UNET['Valid Dice'], label=f'Validation Dice')\n",
        "    plt.xlabel('Epoch')\n",
        "    plt.ylabel('Dice')\n",
        "    plt.legend()\n",
        "    plt.title(f'Dice History-model{seg_model_name}')\n",
        "\n",
        "    plt.subplot(1, 2, 2)\n",
        "    plt.plot(historys_UNET['Train Jaccard'], label=f'Training Jaccard')\n",
        "    plt.plot(historys_UNET['Valid Jaccard'], label=f'Validation Jaccard')\n",
        "    plt.xlabel('Epoch')\n",
        "    plt.ylabel('Jaccard')\n",
        "    plt.legend()\n",
        "    plt.title(f'Jaccard History-model{seg_model_name}')\n",
        "    plt.show()\n",
        "    torch.save(model.state_dict(), f'{seg_model_name}_std.pth')\n",
        "    torch.save(model, f'{seg_model_name}.pt')"
      ]
    },
    {
      "cell_type": "code",
      "execution_count": null,
      "metadata": {},
      "outputs": [],
      "source": [
        "history"
      ]
    },
    {
      "cell_type": "code",
      "execution_count": null,
      "metadata": {},
      "outputs": [],
      "source": [
        "    torch.save(model, 'UNetPPEffb6_600_2.pt')\n"
      ]
    },
    {
      "cell_type": "code",
      "execution_count": null,
      "metadata": {},
      "outputs": [],
      "source": [
        "plt.figure(figsize=(12,9))\n",
        "\n",
        "plt.plot(historys_UNET['Train Loss'], label=f'Training Loss')\n",
        "plt.plot(historys_UNET['Valid Loss'], label=f'Validation Loss')\n",
        "plt.xlabel('Epoch')\n",
        "plt.ylabel('Loss')\n",
        "plt.legend()\n",
        "plt.title(f'Loss History-model{seg_model_name}')\n",
        "\n",
        "\n",
        "plt.figure(figsize=(17,9))\n",
        "plt.subplot(1, 2, 1)\n",
        "plt.plot(historys_UNET['Train Dice'], label=f'Training Dice')\n",
        "plt.plot(historys_UNET['Valid Dice'], label=f'Validation Dice')\n",
        "plt.xlabel('Epoch')\n",
        "plt.ylabel('Dice')\n",
        "plt.legend()\n",
        "plt.title(f'Dice History-model{seg_model_name}')\n",
        "\n",
        "plt.subplot(1, 2, 2)\n",
        "plt.plot(historys_UNET['Train Jaccard'], label=f'Training Jaccard')\n",
        "plt.plot(historys_UNET['Valid Jaccard'], label=f'Validation Jaccard')\n",
        "plt.xlabel('Epoch')\n",
        "plt.ylabel('Jaccard')\n",
        "plt.legend()\n",
        "plt.title(f'Jaccard History-model{seg_model_name}')\n",
        "plt.show()"
      ]
    },
    {
      "cell_type": "code",
      "execution_count": null,
      "metadata": {},
      "outputs": [],
      "source": [
        "def build_model():\n",
        "    model = smp.FPN(\n",
        "        encoder_name='efficientnet-b6' ,\n",
        "                  # choose encoder, e.g. mobilenet_v2 or efficientnet-b7\n",
        "        encoder_weights='imagenet',# use `imagenet` pre-trained weights for encoder initialization\n",
        "        in_channels=1,                  # model input channels (1 for gray-scale images, 3 for RGB, etc.)\n",
        "        classes=1   ,     # model output channels (number of classes in your dataset)\n",
        "        activation=None,\n",
        "    )\n",
        "    model.to('cuda')\n",
        "    return model\n",
        "\n",
        "def load_model(path):\n",
        "    model = build_model()\n",
        "    model.load_state_dict(torch.load(path))\n",
        "    model.eval()\n",
        "    return model\n",
        "\n",
        "for fold in range(1):\n",
        "    seg_model_name = 'UNetPPEffb6_600_3'\n",
        "    print(f'#'*15)\n",
        "    print(f'### Fold: {fold}')\n",
        "    print(f'#'*15)\n",
        "    run = wandb.init(project='uw-maddison-gi-tract', \n",
        "                     config={k:v for k, v in dict(vars(CFG)).items() if '__' not in k},\n",
        "                     anonymous=anonymous,\n",
        "                     name=f\"fold-{fold}|dim-{CFG.img_size[0]}x{CFG.img_size[1]}|model-{CFG.model_name}\",\n",
        "                     group=CFG.comment,\n",
        "                    )\n",
        "    \n",
        "\n",
        "    data_transforms = {\n",
        "        \"train\": A.Compose([\n",
        "            A.augmentations.crops.transforms.CenterCrop(224,224),\n",
        "            A.Resize(224,224, interpolation=cv2.INTER_NEAREST),\n",
        "            A.CoarseDropout(max_holes=8, max_height=224//20, max_width=224//20,\n",
        "                            min_holes=5, fill_value=0, mask_fill_value=0, p=0.5),\n",
        "            \n",
        "\n",
        "            A.HorizontalFlip(p=0.5),\n",
        "    #         A.VerticalFlip(p=0.5),\n",
        "            A.ShiftScaleRotate(shift_limit=0.0625, scale_limit=0.05, rotate_limit=10, p=0.5),\n",
        "            A.OneOf([\n",
        "                A.GridDistortion(num_steps=5, distort_limit=0.05, p=1.0),\n",
        "                # A.OpticalDistortion(distort_limit=0.05, shift_limit=0.05, p=1.0),\n",
        "                A.ElasticTransform(alpha=1, sigma=50, alpha_affine=50, p=1.0)\n",
        "            ], p=0.25),\n",
        "            # A.ColorJitter(brightness=0, contrast=0.0002, saturation=0, hue=0.2, always_apply=False, p=0.5),\n",
        "            # A.CoarseDropout(max_holes=8, max_height=224//20, max_width=224//20,\n",
        "            #                  min_holes=5, fill_value=0, mask_fill_value=0, p=0.5),\n",
        "            A.augmentations.Normalize(mean=(0.485, ), std=(0.229, )),\n",
        "            ], p=1.0),\n",
        "        \n",
        "        \"valid\": A.Compose([\n",
        "            A.augmentations.crops.transforms.CenterCrop(224,224),\n",
        "            A.Resize(224,224, interpolation=cv2.INTER_NEAREST),\n",
        "            A.augmentations.Normalize(mean=(0.485, ), std=(0.229, )),\n",
        "            ], p=1.0)\n",
        "    }\n",
        "    train_dataset = BuildDataset(np.concatenate((dataset_X, x_train), axis=0),np.concatenate((dataset_y, y_train), axis=0), transforms=data_transforms['train'])\n",
        "    valid_dataset = BuildDataset(x_val,y_val, transforms=data_transforms['valid'])\n",
        "\n",
        "    train_loader = DataLoader(train_dataset, batch_size=64,shuffle=True)\n",
        "    valid_loader = DataLoader(valid_dataset, batch_size=64, shuffle=False)\n",
        "    train_loader, valid_loader = train_loader,valid_loader\n",
        "    model     =   build_model()\n",
        "    # UNet(1,1).to('cuda')\n",
        "    optimizer = optim.AdamW(model.parameters(), lr=CFG.lr, weight_decay=CFG.wd)\n",
        "    scheduler =  fetch_scheduler(optimizer) \n",
        "    # fetch_scheduler(optimizer)\n",
        "    \n",
        "    model, historys = run_training(model, optimizer, scheduler,\n",
        "                                device=CFG.device,\n",
        "                                num_epochs=CFG.epochs)\n",
        "    # run.finish()\n",
        "    # display(ipd.IFrame(run.url, width=1000, height=720))\n",
        "    plt.figure(figsize=(12,9))\n",
        "\n",
        "    plt.plot(historys['Train Loss'], label=f'Training Loss')\n",
        "    plt.plot(historys['Valid Loss'], label=f'Validation Loss')\n",
        "    plt.xlabel('Epoch')\n",
        "    plt.ylabel('Loss')\n",
        "    plt.legend()\n",
        "    plt.title(f'Loss History-model{seg_model_name}')\n",
        "\n",
        "\n",
        "    plt.figure(figsize=(17,9))\n",
        "    plt.subplot(1, 2, 1)\n",
        "    plt.plot(historys['Train Dice'], label=f'Training Dice')\n",
        "    plt.plot(historys['Valid Dice'], label=f'Validation Dice')\n",
        "    plt.xlabel('Epoch')\n",
        "    plt.ylabel('Dice')\n",
        "    plt.legend()\n",
        "    plt.title(f'Dice History-model{seg_model_name}')\n",
        "\n",
        "    plt.subplot(1, 2, 2)\n",
        "    plt.plot(historys['Train Jaccard'], label=f'Training Jaccard')\n",
        "    plt.plot(historys['Valid Jaccard'], label=f'Validation Jaccard')\n",
        "    plt.xlabel('Epoch')\n",
        "    plt.ylabel('Jaccard')\n",
        "    plt.legend()\n",
        "    plt.title(f'Jaccard History-model{seg_model_name}')\n",
        "    plt.show()\n",
        "    torch.save(model.state_dict(), f'{seg_model_name}_std.pth')\n",
        "    torch.save(model, f'{seg_model_name}.pt')"
      ]
    },
    {
      "cell_type": "code",
      "execution_count": null,
      "metadata": {},
      "outputs": [],
      "source": [
        "\n",
        "    history_all_sota[f'{seg_model_name}'].append(history)\n",
        "    gpus = GPUtil.getGPUs()\n",
        "    gpu = gpus[0]\n",
        "    GPUtil.showUtilization()\n",
        "    free_memory = gpu.memoryFree\n",
        "    torch.cuda.empty_cache()"
      ]
    },
    {
      "cell_type": "code",
      "execution_count": null,
      "metadata": {},
      "outputs": [],
      "source": [
        "torch.save(model, 'UNetPPEffb1_300_bs64.pt')"
      ]
    },
    {
      "cell_type": "code",
      "execution_count": null,
      "metadata": {},
      "outputs": [],
      "source": [
        "torch.save(model.state_dict(), 'UNetPPEffb1_300_bs64_state_dict')"
      ]
    },
    {
      "cell_type": "code",
      "execution_count": null,
      "metadata": {},
      "outputs": [],
      "source": [
        "run = wandb.init(project='uw-maddison-gi-tract', \n",
        "                     config={k:v for k, v in dict(vars(CFG)).items() if '__' not in k},\n",
        "                     anonymous=anonymous,\n",
        "                     name=f\"fold-{fold}|dim-{CFG.img_size[0]}x{CFG.img_size[1]}|model-{CFG.model_name}\",\n",
        "                     group=CFG.comment,\n",
        "                    )"
      ]
    },
    {
      "cell_type": "code",
      "execution_count": null,
      "metadata": {},
      "outputs": [],
      "source": [
        "print(f\"\"\" MODEL: {seg_model_name} Train DICE MAX:{max(history[0]['Train Dice'])} IOU MAX:{max(history[0]['Train Jaccard'])} Train Loss MIN:{min(history[0]['Train Loss'])} \n",
        "        MODEL: {seg_model_name} VAL DICE MAX:{max(history[0]['Valid Dice'])} VAL IOU MAX:{max(history[0]['Valid Jaccard'])} VAL Loss MIN:{min(history[0]['Valid Loss'])} \\n \"\"\")"
      ]
    },
    {
      "cell_type": "markdown",
      "metadata": {},
      "source": [
        "## Валидация"
      ]
    },
    {
      "cell_type": "code",
      "execution_count": null,
      "metadata": {},
      "outputs": [],
      "source": [
        "import GPUtil\n",
        "import torch\n",
        "\n",
        "gpus = GPUtil.getGPUs()\n",
        "\n",
        "gpu = gpus[0]\n",
        "\n",
        "GPUtil.showUtilization()\n",
        "\n",
        "free_memory = gpu.memoryFree\n",
        "\n",
        "torch.cuda.empty_cache()\n"
      ]
    },
    {
      "cell_type": "code",
      "execution_count": null,
      "metadata": {},
      "outputs": [],
      "source": [
        "import matplotlib.pyplot as plt\n",
        "\n",
        "# Dictionary\n",
        "my_dict = {'name1': 10, 'name2': 20, 'name3': 10}\n",
        "\n",
        "# Extract values\n",
        "values = list(my_dict.values())\n",
        "\n",
        "# Create histogram plot\n",
        "plt.hist(x=df['IOU'])\n",
        "\n",
        "# Add labels and title\n",
        "plt.xlabel('Values')\n",
        "plt.ylabel('Frequency')\n",
        "plt.title('Histogram')\n",
        "\n",
        "# Show the plot\n",
        "plt.show()"
      ]
    },
    {
      "cell_type": "code",
      "execution_count": null,
      "metadata": {},
      "outputs": [],
      "source": [
        "valid_loader = DataLoader(valid_dataset, batch_size=64, shuffle=False, pin_memory=True)"
      ]
    },
    {
      "cell_type": "code",
      "execution_count": null,
      "metadata": {},
      "outputs": [],
      "source": [
        "weight_c1 = 'UNetPPEffb6_600_std.pth'\n",
        "model = smp.UnetPlusPlus(\n",
        "    encoder_name=\"efficientnet-b6\", encoder_weights=None, in_channels=1, classes=1)\n",
        "# weight_c1 = path2 / 'deeplabv3plus.pkl'\n",
        "# self._model = smp.DeepLabV3Plus(\n",
        "#     encoder_name=\"efficientnet-b6\", encoder_weights=None, in_channels=1, classes=1)\n",
        "model.to('cuda')\n",
        "model.load_state_dict(torch.load(\n",
        "    weight_c1, map_location='cuda'))\n",
        "model.eval()\n"
      ]
    },
    {
      "cell_type": "code",
      "execution_count": null,
      "metadata": {},
      "outputs": [],
      "source": [
        "target_shape"
      ]
    },
    {
      "cell_type": "code",
      "execution_count": null,
      "metadata": {},
      "outputs": [],
      "source": [
        "valid_dataset = BuildDataset_prod(x_val, transforms=transforms_prod['prod'])"
      ]
    },
    {
      "cell_type": "code",
      "execution_count": null,
      "metadata": {},
      "outputs": [],
      "source": [
        "\n",
        "imgs= next(iter(valid_dataset))\n",
        "# imgs = imgs.to('cuda')\n",
        "val_scores=[]\n",
        "preds = []\n",
        "print(sum(imgs))\n",
        "# imgs = imgs[None, :,:,:]\n",
        "# mask = mask[None, :,:,:]\n",
        "for ings in valid_loader:\n",
        "    for fold in range(1):\n",
        "        # model = load_model(f\"best_epoch-{fold:02d}.bin\")\n",
        "        with torch.no_grad():\n",
        "            pred = model(imgs).cpu()\n",
        "            pred = (nn.Sigmoid()(pred)>0.5).double()\n",
        "            \n",
        "            # preds = torch.argmax(nn.Sigmoid()(pred),axis=1).double()\n",
        "            # val_dice = dice_coef(mask, pred).cpu().detach().numpy()\n",
        "            # val_jaccard = iou_coef(mask, pred).cpu().detach().numpy()\n",
        "            # val_scores.append([val_dice, val_jaccard])\n",
        "            \n",
        "            \n",
        "            print( sum(sum(sum(sum(pred)))))\n",
        "        preds.append(pred)\n",
        "        \n",
        "    imgs  = imgs.cpu().detach()\n",
        "    preds = torch.mean(torch.stack(preds, dim=0), dim=0).cpu().detach()\n",
        "\n"
      ]
    },
    {
      "cell_type": "code",
      "execution_count": null,
      "metadata": {},
      "outputs": [],
      "source": [
        "device='cpu'"
      ]
    },
    {
      "cell_type": "code",
      "execution_count": null,
      "metadata": {},
      "outputs": [],
      "source": [
        "valid_loader = DataLoader(valid_dataset, batch_size=64, shuffle=True)"
      ]
    },
    {
      "cell_type": "code",
      "execution_count": null,
      "metadata": {},
      "outputs": [],
      "source": [
        "preds = []\n",
        "for step, (images, masks) in enumerate(valid_loader):        \n",
        "        images  = images.to(device, dtype=torch.float).cpu()\n",
        "        masks   = masks.to(device, dtype=torch.float).cpu()\n",
        "        models=model.cpu()\n",
        "\n",
        "        for fold in range(1):\n",
        "            # model = load_model(f\"best_epoch-{fold:02d}.bin\")\n",
        "            with torch.no_grad():\n",
        "                pred = models(images).cpu()\n",
        "                pred = (nn.Sigmoid()(pred)>0.5).double()\n",
        "                \n",
        "                # preds = torch.argmax(nn.Sigmoid()(pred),axis=1).double()\n",
        "                # val_dice = dice_coef(mask, pred).cpu().detach().numpy()\n",
        "                # val_jaccard = iou_coef(mask, pred).cpu().detach().numpy()\n",
        "                # val_scores.append([val_dice, val_jaccard])\n",
        "                \n",
        "                \n",
        "                print( sum(sum(sum(sum(pred)))))\n",
        "            preds.append(pred)\n",
        "            \n",
        "        images  = images.cpu().detach()\n",
        "        preds = torch.mean(torch.stack(preds, dim=0), dim=0).cpu().detach()\n",
        "        break\n"
      ]
    },
    {
      "cell_type": "code",
      "execution_count": null,
      "metadata": {},
      "outputs": [],
      "source": [
        "plot_batch(pred, mask, size=1)"
      ]
    },
    {
      "cell_type": "code",
      "execution_count": null,
      "metadata": {},
      "outputs": [],
      "source": [
        "def dice_coef_2(y_true, y_pred):\n",
        "    y_true_f = y_true.flatten()\n",
        "    y_pred_f = y_pred.flatten()\n",
        "    smooth = 0.0001\n",
        "    intersection = (y_true*y_pred).sum()\n",
        "    print(intersection)\n",
        "    print(((y_true_f).sum() + (y_pred_f).sum() + smooth))\n",
        "    print((y_true_f).sum())\n",
        "    print((y_pred_f).sum())\n",
        "    return (2. * intersection + smooth) / ((y_true_f).sum() + (y_pred_f).sum() + smooth)"
      ]
    },
    {
      "cell_type": "code",
      "execution_count": null,
      "metadata": {},
      "outputs": [],
      "source": [
        "\n",
        "def dice_coef(y_true, y_pred, thr=0.3, dim=(2,3), epsilon=0.001):\n",
        "    y_true = y_true.to(torch.float32)\n",
        "    y_pred = (y_pred>thr).to(torch.float32)\n",
        "    inter = (y_true*y_pred).sum(dim=dim)\n",
        "    den = y_true.sum(dim=dim) + y_pred.sum(dim=dim)\n",
        "    dice = ((2*inter+epsilon)/(den+epsilon)).mean(dim=(1,0))\n",
        "    return dice"
      ]
    },
    {
      "cell_type": "code",
      "execution_count": null,
      "metadata": {},
      "outputs": [],
      "source": [
        "dice_coef(masks, preds).cpu().detach().numpy()"
      ]
    },
    {
      "cell_type": "code",
      "execution_count": null,
      "metadata": {},
      "outputs": [],
      "source": [
        "iou_coef(masks, preds).cpu().detach().numpy()"
      ]
    },
    {
      "cell_type": "code",
      "execution_count": null,
      "metadata": {},
      "outputs": [],
      "source": [
        "print(val_scores)"
      ]
    },
    {
      "cell_type": "code",
      "execution_count": null,
      "metadata": {},
      "outputs": [],
      "source": [
        "torch.save(model.s, 'UNetPPEffb6_600_2.pt')"
      ]
    },
    {
      "cell_type": "code",
      "execution_count": null,
      "metadata": {},
      "outputs": [],
      "source": [
        "torch.save(model.state_dict(), 'UNetPPEffb6_600_std.pth')"
      ]
    },
    {
      "cell_type": "code",
      "execution_count": null,
      "metadata": {},
      "outputs": [],
      "source": [
        "sum(sum(sum(mask[:1])))"
      ]
    },
    {
      "cell_type": "code",
      "execution_count": null,
      "metadata": {},
      "outputs": [],
      "source": [
        "plot_batch(images, images, size=5)\n",
        "plot_batch(images, masks, size=5)\n",
        "plot_batch(images, preds, size=5)\n"
      ]
    }
  ],
  "metadata": {
    "accelerator": "GPU",
    "colab": {
      "gpuType": "T4",
      "provenance": []
    },
    "kernelspec": {
      "display_name": "Python 3",
      "name": "python3"
    },
    "language_info": {
      "codemirror_mode": {
        "name": "ipython",
        "version": 3
      },
      "file_extension": ".py",
      "mimetype": "text/x-python",
      "name": "python",
      "nbconvert_exporter": "python",
      "pygments_lexer": "ipython3",
      "version": "3.11.8"
    }
  },
  "nbformat": 4,
  "nbformat_minor": 0
}
